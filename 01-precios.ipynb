{
 "cells": [
  {
   "cell_type": "markdown",
   "metadata": {
    "colab": {},
    "colab_type": "code",
    "id": "n3lnWjvI83ix"
   },
   "source": [
    "# Pronóstico adaptativo"
   ]
  },
  {
   "cell_type": "markdown",
   "metadata": {},
   "source": [
    "## Descripción del problema real"
   ]
  },
  {
   "cell_type": "markdown",
   "metadata": {},
   "source": [
    "Los pronósticos de los precios de la electricidad en mercados liberalizados son un insumo fundamental para la toma de decisiones dentro de las organizaciones. Fundamentalmente, los pronosticos de corto plazo son utilizados en decisiones de carácter operativo. En el caso abordado, es necesario contar con los pronósticos para definir la politica de operación de una empresa del sector eléctrico."
   ]
  },
  {
   "cell_type": "markdown",
   "metadata": {},
   "source": [
    "## Descripción del problema en términos de los datos"
   ]
  },
  {
   "cell_type": "markdown",
   "metadata": {},
   "source": [
    "La carpeta `datos/precios/` contiene los precios historicos horarios de la electricidad en la Bolsa de Energía del mercado eléctrico colombiano, publicados por el operador del mercado. Se desean obtener pronósticos para el precio promedio diario para los próximos siete (7) días a la fecha actual."
   ]
  },
  {
   "cell_type": "markdown",
   "metadata": {},
   "source": [
    "## Aproximaciones posibles"
   ]
  },
  {
   "cell_type": "markdown",
   "metadata": {},
   "source": [
    "En este caso, se desea evaluar la capacidad de pronóstico de un ADALINE con aprendizaje en línea."
   ]
  },
  {
   "cell_type": "markdown",
   "metadata": {},
   "source": [
    "## Requerimientos"
   ]
  },
  {
   "cell_type": "markdown",
   "metadata": {},
   "source": [
    "Usted debe:\n",
    "\n",
    "* Procesar los datos históricos para conformar el conjunto de datos. Los archivos de Excel no pueden ser modificados y actualizados directamente por el operador del sistema. Su código debe leer los archivos y crear la serie de precios promedio diarios de la electricidad.\n",
    "\n",
    "\n",
    "* Determinar si el modelo debe pronosticar los precios promedios sin ninguna transformación, o si la inclusión de una transformación (logaritmo natural, raíz cúbica, raíz cuadrada, etc) resulta en un incremento de la precisión del pronóstico.\n",
    "\n",
    "\n",
    "* Generar el pronóstico para los precios de los próximos siete días.\n",
    "\n",
    "\n",
    "* Preparar el código para que el modelo sea entrenado usando el gradiente y el momentum.\n",
    "\n",
    "\n",
    "* Determinar cuál es el número óptimo de retardos (observaciones) que el modelo debe considerar hacia atrás para producir el pronóstico.\n",
    "\n",
    "\n",
    "* Determinar los valores óptimos de la tasa de aprendizaje y el momentum.\n"
   ]
  },
  {
   "cell_type": "markdown",
   "metadata": {},
   "source": [
    "# Importación de Librerías"
   ]
  },
  {
   "cell_type": "code",
   "execution_count": 180,
   "metadata": {},
   "outputs": [],
   "source": [
    "import pandas as pd\n",
    "import glob\n",
    "import numpy as np\n",
    "import math\n",
    "from sklearn.preprocessing import MinMaxScaler\n",
    "from sklearn.preprocessing import normalize\n",
    "from sklearn.metrics import mean_squared_error\n",
    "from sklearn.metrics import mean_absolute_error\n",
    "import matplotlib.pyplot as plt\n",
    "%matplotlib inline\n",
    "########CUIDADO###########\n",
    "metricas = pd.DataFrame()\n",
    "np.random.seed(0)"
   ]
  },
  {
   "cell_type": "markdown",
   "metadata": {},
   "source": [
    "# Preparación de los Datos"
   ]
  },
  {
   "cell_type": "code",
   "execution_count": 181,
   "metadata": {},
   "outputs": [
    {
     "data": {
      "text/html": [
       "<div>\n",
       "<style scoped>\n",
       "    .dataframe tbody tr th:only-of-type {\n",
       "        vertical-align: middle;\n",
       "    }\n",
       "\n",
       "    .dataframe tbody tr th {\n",
       "        vertical-align: top;\n",
       "    }\n",
       "\n",
       "    .dataframe thead th {\n",
       "        text-align: right;\n",
       "    }\n",
       "</style>\n",
       "<table border=\"1\" class=\"dataframe\">\n",
       "  <thead>\n",
       "    <tr style=\"text-align: right;\">\n",
       "      <th></th>\n",
       "      <th>Fecha</th>\n",
       "      <th>promedio</th>\n",
       "      <th>anho</th>\n",
       "      <th>mes</th>\n",
       "      <th>dia</th>\n",
       "    </tr>\n",
       "  </thead>\n",
       "  <tbody>\n",
       "    <tr>\n",
       "      <th>0</th>\n",
       "      <td>1995-07-20</td>\n",
       "      <td>1.350708</td>\n",
       "      <td>1995</td>\n",
       "      <td>7</td>\n",
       "      <td>20</td>\n",
       "    </tr>\n",
       "    <tr>\n",
       "      <th>1</th>\n",
       "      <td>1995-07-21</td>\n",
       "      <td>4.924333</td>\n",
       "      <td>1995</td>\n",
       "      <td>7</td>\n",
       "      <td>21</td>\n",
       "    </tr>\n",
       "    <tr>\n",
       "      <th>2</th>\n",
       "      <td>1995-07-22</td>\n",
       "      <td>1.269500</td>\n",
       "      <td>1995</td>\n",
       "      <td>7</td>\n",
       "      <td>22</td>\n",
       "    </tr>\n",
       "    <tr>\n",
       "      <th>3</th>\n",
       "      <td>1995-07-23</td>\n",
       "      <td>0.953083</td>\n",
       "      <td>1995</td>\n",
       "      <td>7</td>\n",
       "      <td>23</td>\n",
       "    </tr>\n",
       "    <tr>\n",
       "      <th>4</th>\n",
       "      <td>1995-07-24</td>\n",
       "      <td>4.305917</td>\n",
       "      <td>1995</td>\n",
       "      <td>7</td>\n",
       "      <td>24</td>\n",
       "    </tr>\n",
       "  </tbody>\n",
       "</table>\n",
       "</div>"
      ],
      "text/plain": [
       "       Fecha  promedio  anho  mes  dia\n",
       "0 1995-07-20  1.350708  1995    7   20\n",
       "1 1995-07-21  4.924333  1995    7   21\n",
       "2 1995-07-22  1.269500  1995    7   22\n",
       "3 1995-07-23  0.953083  1995    7   23\n",
       "4 1995-07-24  4.305917  1995    7   24"
      ]
     },
     "execution_count": 181,
     "metadata": {},
     "output_type": "execute_result"
    }
   ],
   "source": [
    "filenames = glob.glob('datos\\precios\\*.xlsx')\n",
    "filenamesx = glob.glob('datos\\precios\\*.xls')\n",
    "filenames = filenames + filenamesx\n",
    "\n",
    "data = pd.DataFrame()\n",
    "ano=1995\n",
    "for f in filenames:\n",
    "    if ano<2000:\n",
    "        aux = pd.read_excel(f,header=3)\n",
    "    \n",
    "    elif ano==2000 or ano==2005 or ano>=2010 :\n",
    "        aux = pd.read_excel(f,header=2)\n",
    "        aux = aux.drop(['Version'],axis=1)\n",
    "        \n",
    "    else:\n",
    "        aux = pd.read_excel(f,header=2)\n",
    "        \n",
    "    ano+=1  \n",
    "    data = data.append(aux,sort=False)\n",
    "    #data = pd.concat([data,aux])\n",
    "del ano, aux, f, filenames, filenamesx\n",
    "data = data.dropna(subset=['Fecha'])\n",
    "data = data[data.columns[:-2]] \n",
    "data = data.fillna(0)\n",
    "data['promedio'] = data.mean(axis=1)\n",
    "data = data.reset_index(drop=True)\n",
    "data = data[['Fecha','promedio']]\n",
    "data['Fecha'] = data['Fecha'].astype('datetime64[D]')\n",
    "data['anho'] = data['Fecha'].dt.strftime('%Y')\n",
    "data['anho'] = data['anho'].astype('int')\n",
    "data['mes'] = data['Fecha'].dt.strftime('%m')\n",
    "data['mes'] = data['mes'].astype('int')\n",
    "data['dia'] = data['Fecha'].dt.strftime('%d')\n",
    "data['dia'] = data['dia'].astype('int')\n",
    "\n",
    "data.head(5)"
   ]
  },
  {
   "cell_type": "code",
   "execution_count": 175,
   "metadata": {},
   "outputs": [
    {
     "data": {
      "text/plain": [
       "<matplotlib.legend.Legend at 0x29b42705908>"
      ]
     },
     "execution_count": 175,
     "metadata": {},
     "output_type": "execute_result"
    },
    {
     "data": {
      "image/png": "[encoded data removed]",
      "text/plain": [
       "<Figure size 1584x432 with 1 Axes>"
      ]
     },
     "metadata": {
      "needs_background": "light"
     },
     "output_type": "display_data"
    }
   ],
   "source": [
    "plt.figure(figsize=(22,6))\n",
    "plt.plot(data['promedio'].values, color='red',label = 'Promedio');\n",
    "plt.legend()"
   ]
  },
  {
   "cell_type": "markdown",
   "metadata": {},
   "source": [
    "# Índice IPC\n",
    "\n",
    "Debido al cambio del valor de una moneda con el tiempo debemos buscar una manera de normalizar los precios, para esto usaremos el archivo en la página del Banco de la Republica(https://www.banrep.gov.co/es/estadisticas/indice-precios-consumidor-ipc), para multiplicar los promedios por un indice IPC base "
   ]
  },
  {
   "cell_type": "code",
   "execution_count": 182,
   "metadata": {},
   "outputs": [
    {
     "data": {
      "text/html": [
       "<div>\n",
       "<style scoped>\n",
       "    .dataframe tbody tr th:only-of-type {\n",
       "        vertical-align: middle;\n",
       "    }\n",
       "\n",
       "    .dataframe tbody tr th {\n",
       "        vertical-align: top;\n",
       "    }\n",
       "\n",
       "    .dataframe thead th {\n",
       "        text-align: right;\n",
       "    }\n",
       "</style>\n",
       "<table border=\"1\" class=\"dataframe\">\n",
       "  <thead>\n",
       "    <tr style=\"text-align: right;\">\n",
       "      <th></th>\n",
       "      <th>Corte</th>\n",
       "      <th>indice</th>\n",
       "    </tr>\n",
       "  </thead>\n",
       "  <tbody>\n",
       "    <tr>\n",
       "      <th>0</th>\n",
       "      <td>202002</td>\n",
       "      <td>104.94</td>\n",
       "    </tr>\n",
       "    <tr>\n",
       "      <th>1</th>\n",
       "      <td>202001</td>\n",
       "      <td>104.24</td>\n",
       "    </tr>\n",
       "    <tr>\n",
       "      <th>2</th>\n",
       "      <td>201912</td>\n",
       "      <td>103.80</td>\n",
       "    </tr>\n",
       "    <tr>\n",
       "      <th>3</th>\n",
       "      <td>201911</td>\n",
       "      <td>103.54</td>\n",
       "    </tr>\n",
       "    <tr>\n",
       "      <th>4</th>\n",
       "      <td>201910</td>\n",
       "      <td>103.43</td>\n",
       "    </tr>\n",
       "    <tr>\n",
       "      <th>5</th>\n",
       "      <td>201909</td>\n",
       "      <td>103.26</td>\n",
       "    </tr>\n",
       "    <tr>\n",
       "      <th>6</th>\n",
       "      <td>201908</td>\n",
       "      <td>103.03</td>\n",
       "    </tr>\n",
       "    <tr>\n",
       "      <th>7</th>\n",
       "      <td>201907</td>\n",
       "      <td>102.94</td>\n",
       "    </tr>\n",
       "    <tr>\n",
       "      <th>8</th>\n",
       "      <td>201906</td>\n",
       "      <td>102.71</td>\n",
       "    </tr>\n",
       "    <tr>\n",
       "      <th>9</th>\n",
       "      <td>201905</td>\n",
       "      <td>102.44</td>\n",
       "    </tr>\n",
       "  </tbody>\n",
       "</table>\n",
       "</div>"
      ],
      "text/plain": [
       "    Corte  indice\n",
       "0  202002  104.94\n",
       "1  202001  104.24\n",
       "2  201912  103.80\n",
       "3  201911  103.54\n",
       "4  201910  103.43\n",
       "5  201909  103.26\n",
       "6  201908  103.03\n",
       "7  201907  102.94\n",
       "8  201906  102.71\n",
       "9  201905  102.44"
      ]
     },
     "execution_count": 182,
     "metadata": {},
     "output_type": "execute_result"
    }
   ],
   "source": [
    "ipc = pd.read_excel('datos/1.2.5.IPC_Serie_variaciones.xlsx',header =12)\n",
    "ipc = ipc.iloc[:-6] \n",
    "ipc = ipc.iloc[:,0:2] \n",
    "ipc.columns = ['Corte', 'indice']\n",
    "ipc.head(10)"
   ]
  },
  {
   "cell_type": "code",
   "execution_count": 183,
   "metadata": {},
   "outputs": [
    {
     "data": {
      "text/html": [
       "<div>\n",
       "<style scoped>\n",
       "    .dataframe tbody tr th:only-of-type {\n",
       "        vertical-align: middle;\n",
       "    }\n",
       "\n",
       "    .dataframe tbody tr th {\n",
       "        vertical-align: top;\n",
       "    }\n",
       "\n",
       "    .dataframe thead th {\n",
       "        text-align: right;\n",
       "    }\n",
       "</style>\n",
       "<table border=\"1\" class=\"dataframe\">\n",
       "  <thead>\n",
       "    <tr style=\"text-align: right;\">\n",
       "      <th></th>\n",
       "      <th>Corte</th>\n",
       "      <th>indice</th>\n",
       "    </tr>\n",
       "  </thead>\n",
       "  <tbody>\n",
       "    <tr>\n",
       "      <th>0</th>\n",
       "      <td>2020-02</td>\n",
       "      <td>104.94</td>\n",
       "    </tr>\n",
       "    <tr>\n",
       "      <th>1</th>\n",
       "      <td>2020-01</td>\n",
       "      <td>104.24</td>\n",
       "    </tr>\n",
       "    <tr>\n",
       "      <th>2</th>\n",
       "      <td>2019-12</td>\n",
       "      <td>103.80</td>\n",
       "    </tr>\n",
       "    <tr>\n",
       "      <th>3</th>\n",
       "      <td>2019-11</td>\n",
       "      <td>103.54</td>\n",
       "    </tr>\n",
       "    <tr>\n",
       "      <th>4</th>\n",
       "      <td>2019-10</td>\n",
       "      <td>103.43</td>\n",
       "    </tr>\n",
       "    <tr>\n",
       "      <th>5</th>\n",
       "      <td>2019-09</td>\n",
       "      <td>103.26</td>\n",
       "    </tr>\n",
       "    <tr>\n",
       "      <th>6</th>\n",
       "      <td>2019-08</td>\n",
       "      <td>103.03</td>\n",
       "    </tr>\n",
       "    <tr>\n",
       "      <th>7</th>\n",
       "      <td>2019-07</td>\n",
       "      <td>102.94</td>\n",
       "    </tr>\n",
       "    <tr>\n",
       "      <th>8</th>\n",
       "      <td>2019-06</td>\n",
       "      <td>102.71</td>\n",
       "    </tr>\n",
       "    <tr>\n",
       "      <th>9</th>\n",
       "      <td>2019-05</td>\n",
       "      <td>102.44</td>\n",
       "    </tr>\n",
       "  </tbody>\n",
       "</table>\n",
       "</div>"
      ],
      "text/plain": [
       "     Corte  indice\n",
       "0  2020-02  104.94\n",
       "1  2020-01  104.24\n",
       "2  2019-12  103.80\n",
       "3  2019-11  103.54\n",
       "4  2019-10  103.43\n",
       "5  2019-09  103.26\n",
       "6  2019-08  103.03\n",
       "7  2019-07  102.94\n",
       "8  2019-06  102.71\n",
       "9  2019-05  102.44"
      ]
     },
     "execution_count": 183,
     "metadata": {},
     "output_type": "execute_result"
    }
   ],
   "source": [
    "ipc['Corte'] = ipc['Corte'].astype(str)\n",
    "ipc['Corte'] = ipc['Corte'].apply(lambda x: x[:4] + '-' + x[4:])\n",
    "ipc['Corte'] = pd.to_datetime(ipc['Corte']).dt.to_period('M')\n",
    "data['Corte'] = pd.to_datetime(data['Fecha']).dt.to_period('M')\n",
    "ipc.head(10)                                "
   ]
  },
  {
   "cell_type": "code",
   "execution_count": 184,
   "metadata": {},
   "outputs": [
    {
     "data": {
      "text/plain": [
       "0.03"
      ]
     },
     "execution_count": 184,
     "metadata": {},
     "output_type": "execute_result"
    }
   ],
   "source": [
    "indiceBase = ipc.tail(1).iloc[0,1]\n",
    "#indiceBase = ipc['indice']\n",
    "indiceBase"
   ]
  },
  {
   "cell_type": "code",
   "execution_count": 185,
   "metadata": {},
   "outputs": [
    {
     "data": {
      "text/html": [
       "<div>\n",
       "<style scoped>\n",
       "    .dataframe tbody tr th:only-of-type {\n",
       "        vertical-align: middle;\n",
       "    }\n",
       "\n",
       "    .dataframe tbody tr th {\n",
       "        vertical-align: top;\n",
       "    }\n",
       "\n",
       "    .dataframe thead th {\n",
       "        text-align: right;\n",
       "    }\n",
       "</style>\n",
       "<table border=\"1\" class=\"dataframe\">\n",
       "  <thead>\n",
       "    <tr style=\"text-align: right;\">\n",
       "      <th></th>\n",
       "      <th>Fecha</th>\n",
       "      <th>promedio</th>\n",
       "      <th>anho</th>\n",
       "      <th>mes</th>\n",
       "      <th>dia</th>\n",
       "      <th>Corte</th>\n",
       "      <th>indice</th>\n",
       "      <th>promedioIPC</th>\n",
       "    </tr>\n",
       "  </thead>\n",
       "  <tbody>\n",
       "    <tr>\n",
       "      <th>0</th>\n",
       "      <td>1995-07-20</td>\n",
       "      <td>1.350708</td>\n",
       "      <td>1995</td>\n",
       "      <td>7</td>\n",
       "      <td>20</td>\n",
       "      <td>1995-07</td>\n",
       "      <td>20.93</td>\n",
       "      <td>0.001936</td>\n",
       "    </tr>\n",
       "    <tr>\n",
       "      <th>1</th>\n",
       "      <td>1995-07-21</td>\n",
       "      <td>4.924333</td>\n",
       "      <td>1995</td>\n",
       "      <td>7</td>\n",
       "      <td>21</td>\n",
       "      <td>1995-07</td>\n",
       "      <td>20.93</td>\n",
       "      <td>0.007058</td>\n",
       "    </tr>\n",
       "    <tr>\n",
       "      <th>2</th>\n",
       "      <td>1995-07-22</td>\n",
       "      <td>1.269500</td>\n",
       "      <td>1995</td>\n",
       "      <td>7</td>\n",
       "      <td>22</td>\n",
       "      <td>1995-07</td>\n",
       "      <td>20.93</td>\n",
       "      <td>0.001820</td>\n",
       "    </tr>\n",
       "    <tr>\n",
       "      <th>3</th>\n",
       "      <td>1995-07-23</td>\n",
       "      <td>0.953083</td>\n",
       "      <td>1995</td>\n",
       "      <td>7</td>\n",
       "      <td>23</td>\n",
       "      <td>1995-07</td>\n",
       "      <td>20.93</td>\n",
       "      <td>0.001366</td>\n",
       "    </tr>\n",
       "    <tr>\n",
       "      <th>4</th>\n",
       "      <td>1995-07-24</td>\n",
       "      <td>4.305917</td>\n",
       "      <td>1995</td>\n",
       "      <td>7</td>\n",
       "      <td>24</td>\n",
       "      <td>1995-07</td>\n",
       "      <td>20.93</td>\n",
       "      <td>0.006172</td>\n",
       "    </tr>\n",
       "  </tbody>\n",
       "</table>\n",
       "</div>"
      ],
      "text/plain": [
       "       Fecha  promedio  anho  mes  dia    Corte  indice  promedioIPC\n",
       "0 1995-07-20  1.350708  1995    7   20  1995-07   20.93     0.001936\n",
       "1 1995-07-21  4.924333  1995    7   21  1995-07   20.93     0.007058\n",
       "2 1995-07-22  1.269500  1995    7   22  1995-07   20.93     0.001820\n",
       "3 1995-07-23  0.953083  1995    7   23  1995-07   20.93     0.001366\n",
       "4 1995-07-24  4.305917  1995    7   24  1995-07   20.93     0.006172"
      ]
     },
     "execution_count": 185,
     "metadata": {},
     "output_type": "execute_result"
    }
   ],
   "source": [
    "data = pd.merge(data, ipc[[\"Corte\", \"indice\"]], on=\"Corte\", how=\"left\")\n",
    "data['promedioIPC'] =  data['promedio'] * indiceBase / data['indice']\n",
    "data.head(5)"
   ]
  },
  {
   "cell_type": "code",
   "execution_count": 186,
   "metadata": {},
   "outputs": [
    {
     "data": {
      "text/plain": [
       "<matplotlib.legend.Legend at 0x29b42710f60>"
      ]
     },
     "execution_count": 186,
     "metadata": {},
     "output_type": "execute_result"
    },
    {
     "data": {
      "image/png": "[encoded data removed]",
      "text/plain": [
       "<Figure size 1584x432 with 1 Axes>"
      ]
     },
     "metadata": {
      "needs_background": "light"
     },
     "output_type": "display_data"
    }
   ],
   "source": [
    "plt.figure(figsize=(22,6))\n",
    "plt.plot(data['promedioIPC'].values, color='red', label = 'promedioIPC');\n",
    "plt.legend()"
   ]
  },
  {
   "cell_type": "markdown",
   "metadata": {},
   "source": [
    "# Aplicación de Transformación y Normalización\n",
    "\n",
    "Se prueba aplicar una transformación a los datos, para ver si el comportamiento de los datos mejora, se probó con las siguientes transformaciones:\n",
    "+ Raíz cuadrada\n",
    "+ Raíz cúbica\n",
    "+ Logaritmo natural"
   ]
  },
  {
   "cell_type": "code",
   "execution_count": 10,
   "metadata": {},
   "outputs": [
    {
     "data": {
      "image/png": "[encoded data removed]",
      "text/plain": [
       "<Figure size 1584x432 with 1 Axes>"
      ]
     },
     "metadata": {
      "needs_background": "light"
     },
     "output_type": "display_data"
    }
   ],
   "source": [
    "dataTrans = data['promedio'].copy()\n",
    "dataR2 = np.sqrt(dataTrans)\n",
    "dataR3 = np.power(dataTrans,(1/3))\n",
    "dataLog = np.log(dataTrans)\n",
    "\n",
    "plt.figure(figsize=(22,6))\n",
    "plt.plot(dataR2, color='green',label='R^2')\n",
    "plt.plot(dataR3, color='black',label='R^3')\n",
    "plt.plot(dataLog, color='red',label='Log')\n",
    "plt.legend()\n",
    "plt.show()"
   ]
  },
  {
   "cell_type": "markdown",
   "metadata": {},
   "source": [
    "Analizando las transformaciones apicadas, se decide tomar la transformación con la raíz cúbica, ya que no nos genera una\n",
    "posible perdida de datos al generar valores en cero como lo es el caso de la Logaritmo natural. \n",
    "\n",
    "A continuación, se aplica una normalización con la herramienta MinMaxScaler de la librería sklearn"
   ]
  },
  {
   "cell_type": "code",
   "execution_count": 11,
   "metadata": {},
   "outputs": [
    {
     "data": {
      "text/plain": [
       "[<matplotlib.lines.Line2D at 0x29b42332a20>]"
      ]
     },
     "execution_count": 11,
     "metadata": {},
     "output_type": "execute_result"
    },
    {
     "data": {
      "image/png": "[encoded data removed]",
      "text/plain": [
       "<Figure size 1584x432 with 1 Axes>"
      ]
     },
     "metadata": {
      "needs_background": "light"
     },
     "output_type": "display_data"
    }
   ],
   "source": [
    "normalizador = MinMaxScaler().fit(np.array(dataR3).reshape(-1,1))\n",
    "R3 = normalizador.transform(np.array(dataR3).reshape(-1,1))\n",
    "plt.figure(figsize=(22,6))\n",
    "plt.plot(R3, color = 'red')"
   ]
  },
  {
   "cell_type": "markdown",
   "metadata": {},
   "source": [
    "# Implementación del Modelo\n",
    "\n",
    "Se decide usar el modelo que propone el profesor en la materia de Redes Neuronales, se puede consultar más a fondo la explicación del modelo en el link : https://jdvelasq.github.io/courses/notebooks/sklearn/adaline/1-01-adaline-teoria.html"
   ]
  },
  {
   "cell_type": "code",
   "execution_count": 12,
   "metadata": {},
   "outputs": [],
   "source": [
    "class Adaline:\n",
    "    def __init__(self,\n",
    "                 learning_rate=0.001, # tasa de aprendizaje\n",
    "                 max_epochs=100,      # número máximo de iteraciones sobre el set de datos\n",
    "                 shuffle=False,       # mezcla patrones para aprendizaje online\n",
    "                 random_state=None,   #\n",
    "                 warm_start=False):   #\n",
    "\n",
    "        self.learning_rate = learning_rate\n",
    "        self.max_epochs = max_epochs\n",
    "        self.shuffle = shuffle\n",
    "        self.random_state = random_state\n",
    "        self.warm_start = warm_start\n",
    "        self.coef_ = None\n",
    "        self.intercept_ = None\n",
    "\n",
    "    def fit(self, X, y):\n",
    "\n",
    "        if not isinstance(X, np.ndarray):\n",
    "            X = np.array(X)\n",
    "        if not isinstance(y, np.ndarray):\n",
    "            d = np.array(y)\n",
    "        else:\n",
    "            d = y.copy()\n",
    "\n",
    "        if self.random_state is not None:\n",
    "            np.random.RandomState(self.random_state)\n",
    "\n",
    "        if self.coef_ is None or self.warm_start is False:\n",
    "            self.coef_ = np.random.uniform(-1, 1, X.shape[1])\n",
    "\n",
    "        if self.intercept_ is None  or self.warm_start is False:\n",
    "            self.intercept_ = np.random.uniform(-1, 1, 1)\n",
    "\n",
    "        errors2 = []\n",
    "        forecasts = []\n",
    "\n",
    "        for epoch in range(self.max_epochs):\n",
    "\n",
    "            if self.shuffle is True:\n",
    "                n = list(range(X.shape[0]))\n",
    "                np.random.shuffle(n)\n",
    "                X = X[n,:]\n",
    "                d = d[n]\n",
    "\n",
    "            for i in range(X.shape[0]):\n",
    "                u = np.dot(X[i,:], self.coef_) + self.intercept_\n",
    "                e = (d[i] - u)[0]\n",
    "                self.coef_ += 2 * self.learning_rate * e * X[i,:]\n",
    "                self.intercept_ += 2 * self.learning_rate * e\n",
    "                errors2.append(e**2)\n",
    "                forecasts.append(u)\n",
    "\n",
    "        return errors2, forecasts\n",
    "\n",
    "    def predict(self, X):\n",
    "        if not isinstance(X, np.ndarray):\n",
    "            X = np.array(X)\n",
    "        u = np.dot(X, self.coef_) + self.intercept_\n",
    "        return u"
   ]
  },
  {
   "cell_type": "markdown",
   "metadata": {},
   "source": [
    "# Elección de parámetros\n",
    "\n",
    "Para ajustar los parámetros se decició iterar sobre un dominio ya definido y se guardaron los resultados de predicción y testeo, además se guardaron las métricas mse y mae para cada modelo"
   ]
  },
  {
   "cell_type": "code",
   "execution_count": 18,
   "metadata": {},
   "outputs": [],
   "source": [
    "d = list(R3.reshape(1,-1)[0])"
   ]
  },
  {
   "cell_type": "code",
   "execution_count": 45,
   "metadata": {},
   "outputs": [
    {
     "data": {
      "text/html": [
       "<div>\n",
       "<style scoped>\n",
       "    .dataframe tbody tr th:only-of-type {\n",
       "        vertical-align: middle;\n",
       "    }\n",
       "\n",
       "    .dataframe tbody tr th {\n",
       "        vertical-align: top;\n",
       "    }\n",
       "\n",
       "    .dataframe thead th {\n",
       "        text-align: right;\n",
       "    }\n",
       "</style>\n",
       "<table border=\"1\" class=\"dataframe\">\n",
       "  <thead>\n",
       "    <tr style=\"text-align: right;\">\n",
       "      <th></th>\n",
       "    </tr>\n",
       "  </thead>\n",
       "  <tbody>\n",
       "  </tbody>\n",
       "</table>\n",
       "</div>"
      ],
      "text/plain": [
       "Empty DataFrame\n",
       "Columns: []\n",
       "Index: []"
      ]
     },
     "execution_count": 45,
     "metadata": {},
     "output_type": "execute_result"
    }
   ],
   "source": [
    "metricas = pd.DataFrame()\n",
    "metricas"
   ]
  },
  {
   "cell_type": "code",
   "execution_count": 46,
   "metadata": {},
   "outputs": [],
   "source": [
    "L = 8\n",
    "\n",
    "for lRate in (0.001,0.005,0.01,0.05,0.1):\n",
    "    for epochs in (1,10,100):        \n",
    "        \n",
    "\n",
    "        ##\n",
    "        ## Forma la matriz X\n",
    "        ##\n",
    "        X = []\n",
    "        for t in range(L, len(d)):\n",
    "            X.append(d[t-L:t].copy())\n",
    "            model = Adaline(\n",
    "            learning_rate=lRate,  # tasa de aprendizaje\n",
    "            max_epochs=epochs,        # número máximo de iteraciones sobre el set de datos\n",
    "            shuffle=False,       # mezcla patrones para aprendizaje online\n",
    "            random_state=123,   #corrida reproducible\n",
    "            warm_start=False)    #inicia con pesos aleatorios\n",
    "            \n",
    "        errors2, forecasts = model.fit(X,d[L:])\n",
    "\n",
    "\n",
    "    \n",
    "        #forecasts = normalizador.inverse_transform(np.array(dataR3).reshape(-1,1))    \n",
    "    \n",
    "        lonTest = 7\n",
    "        test = d[len(d)-lonTest:len(d)]\n",
    "        predict = forecasts[len(forecasts) - lonTest:len(forecasts)]\n",
    "\n",
    "        \n",
    "        \n",
    "        mse = mean_squared_error(test, predict)\n",
    "        mae = mean_absolute_error(test, predict)\n",
    "        metricas = metricas.append({'learningrate': lRate, 'maxepochs': epochs, 'mse': mse, 'mae': mae, 'predict' : predict, 'test' : test}, ignore_index = True)\n",
    "        \n",
    "        "
   ]
  },
  {
   "cell_type": "code",
   "execution_count": 48,
   "metadata": {},
   "outputs": [
    {
     "data": {
      "text/html": [
       "<div>\n",
       "<style scoped>\n",
       "    .dataframe tbody tr th:only-of-type {\n",
       "        vertical-align: middle;\n",
       "    }\n",
       "\n",
       "    .dataframe tbody tr th {\n",
       "        vertical-align: top;\n",
       "    }\n",
       "\n",
       "    .dataframe thead th {\n",
       "        text-align: right;\n",
       "    }\n",
       "</style>\n",
       "<table border=\"1\" class=\"dataframe\">\n",
       "  <thead>\n",
       "    <tr style=\"text-align: right;\">\n",
       "      <th></th>\n",
       "      <th>learningrate</th>\n",
       "      <th>mae</th>\n",
       "      <th>maxepochs</th>\n",
       "      <th>mse</th>\n",
       "      <th>predict</th>\n",
       "      <th>test</th>\n",
       "    </tr>\n",
       "  </thead>\n",
       "  <tbody>\n",
       "    <tr>\n",
       "      <th>0</th>\n",
       "      <td>0.001</td>\n",
       "      <td>0.098534</td>\n",
       "      <td>1.0</td>\n",
       "      <td>0.009979</td>\n",
       "      <td>[[0.3661836572020212], [0.40316661066405896], ...</td>\n",
       "      <td>[0.28580166799481854, 0.3221729409331285, 0.28...</td>\n",
       "    </tr>\n",
       "    <tr>\n",
       "      <th>1</th>\n",
       "      <td>0.001</td>\n",
       "      <td>0.027896</td>\n",
       "      <td>10.0</td>\n",
       "      <td>0.001034</td>\n",
       "      <td>[[0.29758991426021125], [0.2980491401023847], ...</td>\n",
       "      <td>[0.28580166799481854, 0.3221729409331285, 0.28...</td>\n",
       "    </tr>\n",
       "    <tr>\n",
       "      <th>2</th>\n",
       "      <td>0.001</td>\n",
       "      <td>0.022808</td>\n",
       "      <td>100.0</td>\n",
       "      <td>0.000793</td>\n",
       "      <td>[[0.3133062474690361], [0.2986116187534412], [...</td>\n",
       "      <td>[0.28580166799481854, 0.3221729409331285, 0.28...</td>\n",
       "    </tr>\n",
       "    <tr>\n",
       "      <th>3</th>\n",
       "      <td>0.005</td>\n",
       "      <td>0.090964</td>\n",
       "      <td>1.0</td>\n",
       "      <td>0.008741</td>\n",
       "      <td>[[0.3940874770437639], [0.445447984539984], [0...</td>\n",
       "      <td>[0.28580166799481854, 0.3221729409331285, 0.28...</td>\n",
       "    </tr>\n",
       "    <tr>\n",
       "      <th>4</th>\n",
       "      <td>0.005</td>\n",
       "      <td>0.033219</td>\n",
       "      <td>10.0</td>\n",
       "      <td>0.001189</td>\n",
       "      <td>[[0.33489554911536606], [0.2762404402071219], ...</td>\n",
       "      <td>[0.28580166799481854, 0.3221729409331285, 0.28...</td>\n",
       "    </tr>\n",
       "    <tr>\n",
       "      <th>5</th>\n",
       "      <td>0.005</td>\n",
       "      <td>0.018372</td>\n",
       "      <td>100.0</td>\n",
       "      <td>0.000486</td>\n",
       "      <td>[[0.31364774748711866], [0.3100330907699105], ...</td>\n",
       "      <td>[0.28580166799481854, 0.3221729409331285, 0.28...</td>\n",
       "    </tr>\n",
       "    <tr>\n",
       "      <th>6</th>\n",
       "      <td>0.010</td>\n",
       "      <td>0.057609</td>\n",
       "      <td>1.0</td>\n",
       "      <td>0.003538</td>\n",
       "      <td>[[0.3676597514093727], [0.37861136947240426], ...</td>\n",
       "      <td>[0.28580166799481854, 0.3221729409331285, 0.28...</td>\n",
       "    </tr>\n",
       "    <tr>\n",
       "      <th>7</th>\n",
       "      <td>0.010</td>\n",
       "      <td>0.027239</td>\n",
       "      <td>10.0</td>\n",
       "      <td>0.001204</td>\n",
       "      <td>[[0.2982519484975097], [0.24656841082529662], ...</td>\n",
       "      <td>[0.28580166799481854, 0.3221729409331285, 0.28...</td>\n",
       "    </tr>\n",
       "    <tr>\n",
       "      <th>8</th>\n",
       "      <td>0.010</td>\n",
       "      <td>0.019071</td>\n",
       "      <td>100.0</td>\n",
       "      <td>0.000508</td>\n",
       "      <td>[[0.32270321183488876], [0.30300749870327254],...</td>\n",
       "      <td>[0.28580166799481854, 0.3221729409331285, 0.28...</td>\n",
       "    </tr>\n",
       "    <tr>\n",
       "      <th>9</th>\n",
       "      <td>0.050</td>\n",
       "      <td>0.042860</td>\n",
       "      <td>1.0</td>\n",
       "      <td>0.003048</td>\n",
       "      <td>[[0.4105867431842014], [0.3695630102970579], [...</td>\n",
       "      <td>[0.28580166799481854, 0.3221729409331285, 0.28...</td>\n",
       "    </tr>\n",
       "    <tr>\n",
       "      <th>10</th>\n",
       "      <td>0.050</td>\n",
       "      <td>0.019078</td>\n",
       "      <td>10.0</td>\n",
       "      <td>0.000559</td>\n",
       "      <td>[[0.32701441032825296], [0.30383394684177367],...</td>\n",
       "      <td>[0.28580166799481854, 0.3221729409331285, 0.28...</td>\n",
       "    </tr>\n",
       "    <tr>\n",
       "      <th>11</th>\n",
       "      <td>0.050</td>\n",
       "      <td>0.018738</td>\n",
       "      <td>100.0</td>\n",
       "      <td>0.000535</td>\n",
       "      <td>[[0.32615889150367905], [0.3065603798775944], ...</td>\n",
       "      <td>[0.28580166799481854, 0.3221729409331285, 0.28...</td>\n",
       "    </tr>\n",
       "    <tr>\n",
       "      <th>12</th>\n",
       "      <td>0.100</td>\n",
       "      <td>0.037838</td>\n",
       "      <td>1.0</td>\n",
       "      <td>0.002357</td>\n",
       "      <td>[[0.38755298977625907], [0.35131182826416446],...</td>\n",
       "      <td>[0.28580166799481854, 0.3221729409331285, 0.28...</td>\n",
       "    </tr>\n",
       "    <tr>\n",
       "      <th>13</th>\n",
       "      <td>0.100</td>\n",
       "      <td>0.018071</td>\n",
       "      <td>10.0</td>\n",
       "      <td>0.000555</td>\n",
       "      <td>[[0.33555929849302985], [0.308664799046113], [...</td>\n",
       "      <td>[0.28580166799481854, 0.3221729409331285, 0.28...</td>\n",
       "    </tr>\n",
       "    <tr>\n",
       "      <th>14</th>\n",
       "      <td>0.100</td>\n",
       "      <td>0.018582</td>\n",
       "      <td>100.0</td>\n",
       "      <td>0.000545</td>\n",
       "      <td>[[0.33234648431964586], [0.3079612914753115], ...</td>\n",
       "      <td>[0.28580166799481854, 0.3221729409331285, 0.28...</td>\n",
       "    </tr>\n",
       "  </tbody>\n",
       "</table>\n",
       "</div>"
      ],
      "text/plain": [
       "    learningrate       mae  maxepochs       mse  \\\n",
       "0          0.001  0.098534        1.0  0.009979   \n",
       "1          0.001  0.027896       10.0  0.001034   \n",
       "2          0.001  0.022808      100.0  0.000793   \n",
       "3          0.005  0.090964        1.0  0.008741   \n",
       "4          0.005  0.033219       10.0  0.001189   \n",
       "5          0.005  0.018372      100.0  0.000486   \n",
       "6          0.010  0.057609        1.0  0.003538   \n",
       "7          0.010  0.027239       10.0  0.001204   \n",
       "8          0.010  0.019071      100.0  0.000508   \n",
       "9          0.050  0.042860        1.0  0.003048   \n",
       "10         0.050  0.019078       10.0  0.000559   \n",
       "11         0.050  0.018738      100.0  0.000535   \n",
       "12         0.100  0.037838        1.0  0.002357   \n",
       "13         0.100  0.018071       10.0  0.000555   \n",
       "14         0.100  0.018582      100.0  0.000545   \n",
       "\n",
       "                                              predict  \\\n",
       "0   [[0.3661836572020212], [0.40316661066405896], ...   \n",
       "1   [[0.29758991426021125], [0.2980491401023847], ...   \n",
       "2   [[0.3133062474690361], [0.2986116187534412], [...   \n",
       "3   [[0.3940874770437639], [0.445447984539984], [0...   \n",
       "4   [[0.33489554911536606], [0.2762404402071219], ...   \n",
       "5   [[0.31364774748711866], [0.3100330907699105], ...   \n",
       "6   [[0.3676597514093727], [0.37861136947240426], ...   \n",
       "7   [[0.2982519484975097], [0.24656841082529662], ...   \n",
       "8   [[0.32270321183488876], [0.30300749870327254],...   \n",
       "9   [[0.4105867431842014], [0.3695630102970579], [...   \n",
       "10  [[0.32701441032825296], [0.30383394684177367],...   \n",
       "11  [[0.32615889150367905], [0.3065603798775944], ...   \n",
       "12  [[0.38755298977625907], [0.35131182826416446],...   \n",
       "13  [[0.33555929849302985], [0.308664799046113], [...   \n",
       "14  [[0.33234648431964586], [0.3079612914753115], ...   \n",
       "\n",
       "                                                 test  \n",
       "0   [0.28580166799481854, 0.3221729409331285, 0.28...  \n",
       "1   [0.28580166799481854, 0.3221729409331285, 0.28...  \n",
       "2   [0.28580166799481854, 0.3221729409331285, 0.28...  \n",
       "3   [0.28580166799481854, 0.3221729409331285, 0.28...  \n",
       "4   [0.28580166799481854, 0.3221729409331285, 0.28...  \n",
       "5   [0.28580166799481854, 0.3221729409331285, 0.28...  \n",
       "6   [0.28580166799481854, 0.3221729409331285, 0.28...  \n",
       "7   [0.28580166799481854, 0.3221729409331285, 0.28...  \n",
       "8   [0.28580166799481854, 0.3221729409331285, 0.28...  \n",
       "9   [0.28580166799481854, 0.3221729409331285, 0.28...  \n",
       "10  [0.28580166799481854, 0.3221729409331285, 0.28...  \n",
       "11  [0.28580166799481854, 0.3221729409331285, 0.28...  \n",
       "12  [0.28580166799481854, 0.3221729409331285, 0.28...  \n",
       "13  [0.28580166799481854, 0.3221729409331285, 0.28...  \n",
       "14  [0.28580166799481854, 0.3221729409331285, 0.28...  "
      ]
     },
     "execution_count": 48,
     "metadata": {},
     "output_type": "execute_result"
    }
   ],
   "source": [
    "metricas"
   ]
  },
  {
   "cell_type": "code",
   "execution_count": 89,
   "metadata": {},
   "outputs": [
    {
     "name": "stdout",
     "output_type": "stream",
     "text": [
      "0.00048555810242452267\n",
      "0.018070718889245045\n"
     ]
    }
   ],
   "source": [
    "metricas['error_total'] = metricas['mae'] + metricas['mse']\n",
    "\n",
    "print(metricas.mse.min())\n",
    "print(metricas.mae.min())"
   ]
  },
  {
   "cell_type": "markdown",
   "metadata": {},
   "source": [
    "# Elección del Modelo\n",
    "\n",
    "Se toma el modelo con el menor error total y se le hace un tratamiento a la predicción ya calculada"
   ]
  },
  {
   "cell_type": "code",
   "execution_count": 90,
   "metadata": {},
   "outputs": [
    {
     "data": {
      "text/html": [
       "<div>\n",
       "<style scoped>\n",
       "    .dataframe tbody tr th:only-of-type {\n",
       "        vertical-align: middle;\n",
       "    }\n",
       "\n",
       "    .dataframe tbody tr th {\n",
       "        vertical-align: top;\n",
       "    }\n",
       "\n",
       "    .dataframe thead th {\n",
       "        text-align: right;\n",
       "    }\n",
       "</style>\n",
       "<table border=\"1\" class=\"dataframe\">\n",
       "  <thead>\n",
       "    <tr style=\"text-align: right;\">\n",
       "      <th></th>\n",
       "      <th>learningrate</th>\n",
       "      <th>mae</th>\n",
       "      <th>maxepochs</th>\n",
       "      <th>mse</th>\n",
       "      <th>predict</th>\n",
       "      <th>test</th>\n",
       "      <th>error total</th>\n",
       "      <th>error_total</th>\n",
       "    </tr>\n",
       "  </thead>\n",
       "  <tbody>\n",
       "    <tr>\n",
       "      <th>13</th>\n",
       "      <td>0.1</td>\n",
       "      <td>0.018071</td>\n",
       "      <td>10.0</td>\n",
       "      <td>0.000555</td>\n",
       "      <td>[[0.33555929849302985], [0.308664799046113], [...</td>\n",
       "      <td>[0.28580166799481854, 0.3221729409331285, 0.28...</td>\n",
       "      <td>0.018625</td>\n",
       "      <td>0.018625</td>\n",
       "    </tr>\n",
       "  </tbody>\n",
       "</table>\n",
       "</div>"
      ],
      "text/plain": [
       "    learningrate       mae  maxepochs       mse  \\\n",
       "13           0.1  0.018071       10.0  0.000555   \n",
       "\n",
       "                                              predict  \\\n",
       "13  [[0.33555929849302985], [0.308664799046113], [...   \n",
       "\n",
       "                                                 test  error total  \\\n",
       "13  [0.28580166799481854, 0.3221729409331285, 0.28...     0.018625   \n",
       "\n",
       "    error_total  \n",
       "13     0.018625  "
      ]
     },
     "execution_count": 90,
     "metadata": {},
     "output_type": "execute_result"
    }
   ],
   "source": [
    "best_model = metricas.loc[metricas['error_total'] == metricas.error_total.min()]\n",
    "best_model"
   ]
  },
  {
   "cell_type": "code",
   "execution_count": 171,
   "metadata": {},
   "outputs": [],
   "source": [
    "predict = best_model['predict']\n",
    "test = best_model['test']\n",
    "\n",
    "predict = best_model['predict'].values\n",
    "predict = predict[0]\n",
    "predict = [i[0] for i in predict]\n",
    "predict = np.array(predict)\n",
    "predict = normalizador.inverse_transform(predict.reshape(1,-1))\n",
    "predict = np.power(predict,3)\n",
    "\n",
    "#test = best_model['test'].values\n",
    "\n",
    "#test = [i[0] for i in test]\n",
    "test = np.asarray(test)\n",
    "test = test[0]\n",
    "test = np.asarray(test)\n",
    "test = normalizador.inverse_transform(test.reshape(1,-1))\n",
    "test = np.power(test,3)"
   ]
  },
  {
   "cell_type": "markdown",
   "metadata": {},
   "source": [
    "## Resultado"
   ]
  },
  {
   "cell_type": "code",
   "execution_count": 172,
   "metadata": {},
   "outputs": [
    {
     "data": {
      "text/plain": [
       "array([[104.77378598,  85.18778493,  88.11354583,  75.14663264,\n",
       "         77.86043508,  77.38160782,  71.52658303]])"
      ]
     },
     "execution_count": 172,
     "metadata": {},
     "output_type": "execute_result"
    }
   ],
   "source": [
    "predict "
   ]
  },
  {
   "cell_type": "code",
   "execution_count": 173,
   "metadata": {},
   "outputs": [
    {
     "data": {
      "image/png": "[encoded data removed]",
      "text/plain": [
       "<Figure size 1008x216 with 1 Axes>"
      ]
     },
     "metadata": {
      "needs_background": "light"
     },
     "output_type": "display_data"
    }
   ],
   "source": [
    "predict = predict[0]\n",
    "test = test[0]\n",
    "\n",
    "plt.figure(figsize=(14,3))\n",
    "plt.plot(test, color='red');\n",
    "plt.plot(predict, color = 'blue');"
   ]
  }
 ],
 "metadata": {
  "colab": {
   "include_colab_link": true,
   "name": "Copia de Untitled3.ipynb",
   "provenance": [],
   "version": "0.3.2"
  },
  "kernelspec": {
   "display_name": "Python 3",
   "language": "python",
   "name": "python3"
  },
  "language_info": {
   "codemirror_mode": {
    "name": "ipython",
    "version": 3
   },
   "file_extension": ".py",
   "mimetype": "text/x-python",
   "name": "python",
   "nbconvert_exporter": "python",
   "pygments_lexer": "ipython3",
   "version": "3.7.3"
  }
 },
 "nbformat": 4,
 "nbformat_minor": 2
}
